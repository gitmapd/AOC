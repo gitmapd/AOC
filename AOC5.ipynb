{
  "cells": [
    {
      "cell_type": "markdown",
      "metadata": {
        "id": "view-in-github",
        "colab_type": "text"
      },
      "source": [
        "<a href=\"https://colab.research.google.com/github/gitmapd/AOC/blob/main/AOC5.ipynb\" target=\"_parent\"><img src=\"https://colab.research.google.com/assets/colab-badge.svg\" alt=\"Open In Colab\"/></a>"
      ]
    },
    {
      "cell_type": "code",
      "execution_count": 1,
      "metadata": {
        "colab": {
          "base_uri": "https://localhost:8080/"
        },
        "id": "MnLv7KndJRna",
        "outputId": "98c0f179-f72e-4e1e-86ea-f128fd992cc4"
      },
      "outputs": [
        {
          "output_type": "stream",
          "name": "stdout",
          "text": [
            "\u001b[K\u001b[?25hnpx: installed 1 in 1.916s\n",
            "\u001b[36m> cloned \u001b[1mgitmapd/AOC\u001b[22m#\u001b[1mHEAD\u001b[22m to inputs\u001b[39m\n"
          ]
        }
      ],
      "source": [
        "from pathlib import Path\n",
        "!npx degit gitmapd/AOC/inputs inputs -f\n"
      ]
    },
    {
      "cell_type": "code",
      "execution_count": 6,
      "metadata": {
        "colab": {
          "base_uri": "https://localhost:8080/"
        },
        "id": "YEyUrhHlIxoB",
        "outputId": "cb54d068-d23a-44f6-9ded-4ba46cece8ed"
      },
      "outputs": [
        {
          "output_type": "stream",
          "name": "stdout",
          "text": [
            "Part1: BSDMQFLSP\n",
            "Part2: PGSQBFLDP\n"
          ]
        }
      ],
      "source": [
        "\n",
        "input_path = Path(\"inputs\") / \"AOC2022\"\n",
        "\n",
        "\n",
        "\n",
        "def get_input(day:int=1):\n",
        "    try:    \n",
        "        with open(input_path / f\"{day}.txt\") as f:\n",
        "          data = (i.splitlines() for i in f.read().strip('\\n').split('\\n\\n'))\n",
        "    except: \n",
        "        print(f\"Failed to load {day}.txt from disk\")\n",
        "    return data\n",
        "\n",
        "stacks = get_input(5)\n",
        "\n",
        "\"Part1\"\n",
        "stack_strings, instructions = stacks\n",
        "\n",
        "stacks = {int(digit):[] for digit in stack_strings[-1].replace(\" \",\"\")}\n",
        "indexes = [index for index, char in enumerate(stack_strings[-1]) if char != \" \"]\n",
        "\n",
        "\n",
        "def load_stacks():\n",
        "  for string in stack_strings[:-1]:\n",
        "    num_stack = 1\n",
        "    for index in indexes:\n",
        "      if string[index] != \" \":\n",
        "        stacks[num_stack].insert(0,string[index])\n",
        "      num_stack += 1\n",
        "\n",
        "def clear_stacks():\n",
        "  for stack in stacks:\n",
        "    stacks[stack].clear()\n",
        "\n",
        "def display_stacks():\n",
        "    print(\"\\nStacks\\n\")\n",
        "    for stack in stacks:\n",
        "      print(stack,stacks[stack])\n",
        "    print(\"\\n\")\n",
        "\n",
        "def get_stacks():\n",
        "  answer = \"\"\n",
        "  for stack in stacks:\n",
        "    answer += stacks[stack][-1]\n",
        "  return answer\n",
        "\n",
        "\n",
        "load_stacks()\n",
        "\n",
        "for instruction in instructions:\n",
        "  instruction = instruction.replace(\"move\",\"\").replace(\"from \",\"\").replace(\"to \",\"\").strip().split(\" \")\n",
        "  instruction = [int(i) for i in instruction]\n",
        "\n",
        "  crates = instruction[0]\n",
        "  crates_from = instruction[1]\n",
        "  crates_to = instruction[2]\n",
        "  \n",
        "  for crate in range(crates):\n",
        "    crates_removed = stacks[crates_from].pop()\n",
        "    stacks[crates_to].append(crates_removed)\n",
        "\n",
        "print(f\"Part1: {get_stacks()}\") \n",
        "\n",
        "clear_stacks()\n",
        "load_stacks()\n",
        "\n",
        "\"Part2\"\n",
        "\n",
        "for instruction in instructions:\n",
        "  instruction = instruction.replace(\"move\",\"\").replace(\"from \",\"\").replace(\"to \",\"\").strip().split(\" \")\n",
        "  instruction = [int(i) for i in instruction]\n",
        "\n",
        "  crates = instruction[0]\n",
        "  crates_from = instruction[1]\n",
        "  crates_to = instruction[2]\n",
        "  \n",
        "  crates_to_remove = stacks[crates_from][-crates:]\n",
        "  stacks[crates_from] = stacks[crates_from][:-crates]\n",
        "  \n",
        "  for to_remove in crates_to_remove:\n",
        "      stacks[crates_to].append(to_remove)\n",
        "    \n",
        "print(f\"Part2: {get_stacks()}\")\n"
      ]
    },
    {
      "cell_type": "code",
      "execution_count": null,
      "metadata": {
        "id": "Jh9-7jeAnGs5"
      },
      "outputs": [],
      "source": [
        "    "
      ]
    }
  ],
  "metadata": {
    "colab": {
      "provenance": [],
      "authorship_tag": "ABX9TyPWgTQQJxRRsDlEvBIdtB+x",
      "include_colab_link": true
    },
    "kernelspec": {
      "display_name": "Python 3",
      "name": "python3"
    },
    "language_info": {
      "name": "python"
    }
  },
  "nbformat": 4,
  "nbformat_minor": 0
}
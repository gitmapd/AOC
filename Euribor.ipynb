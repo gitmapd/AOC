{
  "cells": [
    {
      "cell_type": "markdown",
      "metadata": {
        "id": "view-in-github",
        "colab_type": "text"
      },
      "source": [
        "<a href=\"https://colab.research.google.com/github/gitmapd/AOC/blob/main/Euribor.ipynb\" target=\"_parent\"><img src=\"https://colab.research.google.com/assets/colab-badge.svg\" alt=\"Open In Colab\"/></a>"
      ]
    },
    {
      "cell_type": "code",
      "execution_count": 1,
      "metadata": {
        "id": "MnLv7KndJRna"
      },
      "outputs": [],
      "source": [
        "from pathlib import Path\n",
        "#!npx degit gitmapd/AOC/inputs inputs -f\n",
        "import requests\n",
        "from bs4 import BeautifulSoup\n",
        "import pandas as pd\n",
        "import matplotlib.pyplot as plt"
      ]
    },
    {
      "cell_type": "code",
      "execution_count": 3,
      "metadata": {
        "colab": {
          "base_uri": "https://localhost:8080/",
          "height": 300
        },
        "id": "YEyUrhHlIxoB",
        "outputId": "aebcde36-85cc-46fd-9653-0c4725d7d62a"
      },
      "outputs": [
        {
          "output_type": "stream",
          "name": "stdout",
          "text": [
            "The mean of last three months is: 2.1593333333333335\n"
          ]
        },
        {
          "output_type": "execute_result",
          "data": {
            "text/plain": [
              "[<matplotlib.lines.Line2D at 0x7f73cf12e4c0>]"
            ]
          },
          "metadata": {},
          "execution_count": 3
        },
        {
          "output_type": "display_data",
          "data": {
            "text/plain": [
              "<Figure size 432x288 with 1 Axes>"
            ],
            "image/png": "[encoded data removed]"
          },
          "metadata": {
            "needs_background": "light"
          }
        }
      ],
      "source": [
        "\n",
        "dic = {}\n",
        "response = requests.get(\"https://www.euribor-rates.eu/pt/taxas-euribor-actuais/2/euribor-taxa-3-meses\")\n",
        "soup = BeautifulSoup(response.text,\"html.parser\")\n",
        "a=soup.find(\"div\",{\"class\":\"card-body\"})\n",
        "for name in soup.find_all(\"tr\"):\n",
        "    cells = name.find_all(\"td\")\n",
        "    date= cells[0].text\n",
        "    values = cells[1].text\n",
        "    dic.update({date:values})\n",
        "df = pd.DataFrame.from_dict(dic.items(), orient='columns')\n",
        "df.columns = ['Date','Percentage']\n",
        "df['Date'] = pd.to_datetime(df['Date'], dayfirst=True)\n",
        "df['Percentage']=df['Percentage'].str.replace(\",\",\".\")\n",
        "df['Percentage']=df['Percentage'].str.rstrip(\"%\").astype(float)\n",
        "\n",
        "print(f\"The mean of last three months is: {df['Percentage'][::-1].tail(3).mean()}\")\n",
        "\n",
        "plt.plot(df[\"Date\"], df[\"Percentage\"])\n"
      ]
    },
    {
      "cell_type": "code",
      "source": [],
      "metadata": {
        "id": "gUZg3HSFgF4z"
      },
      "execution_count": null,
      "outputs": []
    }
  ],
  "metadata": {
    "colab": {
      "provenance": [],
      "authorship_tag": "ABX9TyPtkSsEQmj7UowFdN/1C1Bs",
      "include_colab_link": true
    },
    "kernelspec": {
      "display_name": "Python 3",
      "name": "python3"
    },
    "language_info": {
      "name": "python"
    }
  },
  "nbformat": 4,
  "nbformat_minor": 0
}
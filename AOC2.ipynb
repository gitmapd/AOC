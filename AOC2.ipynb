{
  "nbformat": 4,
  "nbformat_minor": 0,
  "metadata": {
    "colab": {
      "provenance": [],
      "authorship_tag": "ABX9TyNWG3iA6uJrkFMKHrro6pDO",
      "include_colab_link": true
    },
    "kernelspec": {
      "name": "python3",
      "display_name": "Python 3"
    },
    "language_info": {
      "name": "python"
    }
  },
  "cells": [
    {
      "cell_type": "markdown",
      "metadata": {
        "id": "view-in-github",
        "colab_type": "text"
      },
      "source": [
        "<a href=\"https://colab.research.google.com/github/gitmapd/AOC/blob/main/AOC2.ipynb\" target=\"_parent\"><img src=\"https://colab.research.google.com/assets/colab-badge.svg\" alt=\"Open In Colab\"/></a>"
      ]
    },
    {
      "cell_type": "code",
      "execution_count": 2,
      "metadata": {
        "id": "MnLv7KndJRna"
      },
      "outputs": [],
      "source": [
        "from pathlib import Path"
      ]
    },
    {
      "cell_type": "code",
      "execution_count": 53,
      "metadata": {
        "id": "YEyUrhHlIxoB",
        "colab": {
          "base_uri": "https://localhost:8080/"
        },
        "outputId": "1550b447-9461-43fb-f569-80ac2c303dc8"
      },
      "outputs": [
        {
          "output_type": "stream",
          "name": "stdout",
          "text": [
            "15523\n",
            "15702\n"
          ]
        }
      ],
      "source": [
        "\n",
        "input_path = Path(\"inputs\") / \"AOC2022\"\n",
        "\n",
        "#!npx degit gitmapd/AOC/inputs inputs -f\n",
        "\n",
        "def get_input(day:int=1):\n",
        "    \"\"\"takes in the day, year and date, returns the input\"\"\"\n",
        "    \n",
        "    try:    # load from local disk\n",
        "        with open(input_path / f\"{day}.txt\") as f:\n",
        "            data = f.read().strip().split(\"\\n\")\n",
        "    except: # else load from github repo\n",
        "        print(f\"Failed to load {day}.txt from disk\")#\n",
        "    return data \n",
        "\n",
        "part1_scores = {\"A X\":4,\"A Y\":8,\"A Z\":3,\n",
        "                \"B X\":1,\"B Y\":5,\"B Z\":9,\n",
        "                \"C X\":7,\"C Y\":2,\"C Z\":6\n",
        "    \n",
        "}\n",
        "\n",
        "part2_scores = {\"A X\":3,\"A Y\":4,\"A Z\":8,\n",
        "                \"B X\":1,\"B Y\":5,\"B Z\":9,\n",
        "                \"C X\":2,\"C Y\":6,\"C Z\":7\n",
        "    \n",
        "}\n",
        "\n",
        "def solve_part1(data):\n",
        "  sums = 0\n",
        "  for score in data:\n",
        "    sums += part1_scores[score]\n",
        "  return sums\n",
        "\n",
        "print(solve_part1(get_input(2)))\n",
        "\n",
        "def solve_part2(data):\n",
        "  sums = 0\n",
        "  for score in data:\n",
        "    sums += part2_scores[score]\n",
        "  return sums\n",
        "\n",
        "print(solve_part2(get_input(2)))"
      ]
    },
    {
      "cell_type": "code",
      "execution_count": 30,
      "metadata": {
        "id": "e8FyhFDBIxn9"
      },
      "outputs": [],
      "source": []
    }
  ]
}
{
 "cells": [
  {
   "cell_type": "code",
   "execution_count": 2,
   "id": "2eb64f40",
   "metadata": {},
   "outputs": [],
   "source": [
    "# The original code doesn't work because of exp that overwrites sympy's exp\n",
    "# also the Piecewise function definition had to be slightly changed to match\n",
    "# the correct syntax.\n",
    "\n",
    "#from sympy import *\n",
    "#from math import sqrt,exp\n",
    "#x  = Symbol('x',real=True)\n",
    "#f2 = Piecewise((exp((-1/2)*(x-1)+(1/4)*(x-1)**2),x>1),True)\n",
    "#f3 = Piecewise((x**(-1/2), x > 0 and x < 1), True)\n",
    "#f4 = Piecewise((1, x == 1), True)"
   ]
  },
  {
   "cell_type": "code",
   "execution_count": 1,
   "id": "e930a01b",
   "metadata": {},
   "outputs": [
    {
     "data": {
      "text/latex": [
       "$\\displaystyle e^{- \\frac{x}{2} + \\frac{\\left(x - 1\\right)^{2}}{4} + \\frac{1}{2}}$"
      ],
      "text/plain": [
       "exp(-x/2 + (x - 1)**2/4 + 1/2)"
      ]
     },
     "metadata": {},
     "output_type": "display_data"
    },
    {
     "data": {
      "text/latex": [
       "$\\displaystyle \\frac{1}{\\sqrt{x}}$"
      ],
      "text/plain": [
       "1/sqrt(x)"
      ]
     },
     "metadata": {},
     "output_type": "display_data"
    },
    {
     "data": {
      "text/plain": [
       "1"
      ]
     },
     "metadata": {},
     "output_type": "display_data"
    },
    {
     "data": {
      "text/latex": [
       "$\\displaystyle \\begin{cases} e^{- \\frac{x}{2} + \\frac{\\left(x - 1\\right)^{2}}{4} + \\frac{1}{2}} & \\text{for}\\: x > 1 \\\\\\frac{1}{\\sqrt{x}} & \\text{for}\\: x > 0 \\wedge x < 1 \\\\1 & \\text{otherwise} \\end{cases}$"
      ],
      "text/plain": [
       "Piecewise((exp(-x/2 + (x - 1)**2/4 + 1/2), x > 1), (1/sqrt(x), (x > 0) & (x < 1)), (1, True))"
      ]
     },
     "metadata": {},
     "output_type": "display_data"
    }
   ],
   "source": [
    "from sympy import *\n",
    "x  = Symbol('x',real=True)\n",
    "f = [0] * 3\n",
    "f[0] = exp((-S(1)/2)*(x-1)+(S(1)/4)*(x-1)**2)\n",
    "f[1] = x**(-S(1)/2)\n",
    "f[2] = 1\n",
    "for i in range(3):\n",
    "    display(f[i])\n",
    "f=Piecewise(\n",
    "    (f[0],(x>1)),\n",
    "    (f[1],( (x>0) & (x<1) )),\n",
    "    (f[2],True)\n",
    ")\n",
    "display(f)"
   ]
  },
  {
   "cell_type": "code",
   "execution_count": 10,
   "id": "d19344b5",
   "metadata": {},
   "outputs": [
    {
     "data": {
      "image/png": "[encoded data removed]",
      "text/plain": [
       "<Figure size 640x480 with 1 Axes>"
      ]
     },
     "metadata": {},
     "output_type": "display_data"
    },
    {
     "data": {
      "text/plain": [
       "<sympy.plotting.plot.Plot at 0x7fe6503b5780>"
      ]
     },
     "execution_count": 10,
     "metadata": {},
     "output_type": "execute_result"
    }
   ],
   "source": [
    "plot(f,xlim=(-10,10),ylim=(-10,10))"
   ]
  },
  {
   "cell_type": "code",
   "execution_count": 21,
   "id": "4da93853",
   "metadata": {},
   "outputs": [
    {
     "data": {
      "text/latex": [
       "$\\displaystyle 1$"
      ],
      "text/plain": [
       "1"
      ]
     },
     "execution_count": 21,
     "metadata": {},
     "output_type": "execute_result"
    }
   ],
   "source": [
    "limit(f, x, 1, '+')\n",
    "limit(f, x, 1, '-')"
   ]
  },
  {
   "cell_type": "code",
   "execution_count": 3,
   "id": "6b1b9389",
   "metadata": {},
   "outputs": [
    {
     "data": {
      "text/latex": [
       "$\\displaystyle \\begin{cases} \\left(\\frac{x}{2} - 1\\right)^{3} e^{- \\frac{x}{2} + \\frac{\\left(x - 1\\right)^{2}}{4} + \\frac{1}{2}} + \\frac{3 \\left(\\frac{x}{2} - 1\\right) e^{- \\frac{x}{2} + \\frac{\\left(x - 1\\right)^{2}}{4} + \\frac{1}{2}}}{2} & \\text{for}\\: x > 1 \\\\- \\frac{15}{8 x^{\\frac{7}{2}}} & \\text{for}\\: x > 0 \\wedge x < 1 \\\\0 & \\text{otherwise} \\end{cases}$"
      ],
      "text/plain": [
       "Piecewise(((x/2 - 1)**3*exp(-x/2 + (x - 1)**2/4 + 1/2) + 3*(x/2 - 1)*exp(-x/2 + (x - 1)**2/4 + 1/2)/2, x > 1), (-15/(8*x**(7/2)), (x > 0) & (x < 1)), (0, True))"
      ]
     },
     "execution_count": 3,
     "metadata": {},
     "output_type": "execute_result"
    }
   ],
   "source": [
    "diff(diff(diff(f)))"
   ]
  },
  {
   "cell_type": "code",
   "execution_count": 27,
   "id": "9f44788c",
   "metadata": {},
   "outputs": [
    {
     "name": "stdout",
     "output_type": "stream",
     "text": [
      "0.0001277923583984375\n",
      "[0, 1, 1, 2, 3, 5, 8, 13, 21, 34, 55, 89, 144, 233, 377, 610, 987, 1597, 2584, 4181, 6765, 10946, 17711, 28657, 46368, 75025, 121393, 196418, 317811, 514229, 832040, 1346269, 2178309, 3524578, 5702887, 9227465, 14930352, 24157817, 39088169, 63245986, 102334155]\n"
     ]
    }
   ],
   "source": [
    "import time\n",
    "\n",
    "start=time.time()\n",
    "def fib(n):\n",
    "    a, b = 0, 1\n",
    "    for _ in range(n+1):\n",
    "        yield a\n",
    "        a, b = b, a + b\n",
    "end = time.time() - start\n",
    "print(end)\n",
    "print(list(fib(40)))"
   ]
  },
  {
   "cell_type": "code",
   "execution_count": 32,
   "id": "8c0e7b59",
   "metadata": {},
   "outputs": [
    {
     "name": "stdout",
     "output_type": "stream",
     "text": [
      "7.224082946777344e-05\n",
      "55\n"
     ]
    }
   ],
   "source": [
    "start=time.time()\n",
    "def fib(n):\n",
    "    if n <= 1:\n",
    "        return n\n",
    "    return fib(n-1) + fib(n-2)\n",
    "end = time.time() - start\n",
    "print(end)\n",
    "print(fib(10))"
   ]
  },
  {
   "cell_type": "code",
   "execution_count": 12,
   "id": "0acc7339",
   "metadata": {},
   "outputs": [],
   "source": [
    "import pandas as pd\n",
    "import numpy as np\n"
   ]
  },
  {
   "cell_type": "code",
   "execution_count": 18,
   "id": "5450affd",
   "metadata": {},
   "outputs": [],
   "source": [
    "notas = [40,50,60,80,90,100]\n",
    "n_notas = [4,2,5,3,4,2]\n",
    "\n",
    "df=pd.DataFrame(list(zip(notas,n_notas)),columns=[\"notas\",\"n_notas\"])\n"
   ]
  },
  {
   "cell_type": "code",
   "execution_count": 23,
   "id": "4fc6e134",
   "metadata": {},
   "outputs": [
    {
     "data": {
      "text/plain": [
       "68.0"
      ]
     },
     "execution_count": 23,
     "metadata": {},
     "output_type": "execute_result"
    }
   ],
   "source": [
    "(df.notas * df.n_notas).sum() / df.n_notas.sum()"
   ]
  },
  {
   "cell_type": "code",
   "execution_count": 1,
   "id": "ef705ec3",
   "metadata": {},
   "outputs": [],
   "source": [
    "latitude = \"20-55-70.010N\""
   ]
  },
  {
   "cell_type": "code",
   "execution_count": 2,
   "id": "96f2061f",
   "metadata": {},
   "outputs": [],
   "source": [
    "N = 'N' in latitude\n",
    "\n",
    "d,m,s=map(float,latitude[:-1].split(\"-\"))"
   ]
  },
  {
   "cell_type": "code",
   "execution_count": 3,
   "id": "a4ad65ee",
   "metadata": {},
   "outputs": [],
   "source": [
    "latitude = ( d + m/60. + s/3600.) * (1 if N else -1)"
   ]
  },
  {
   "cell_type": "code",
   "execution_count": 4,
   "id": "5caa8b4e",
   "metadata": {},
   "outputs": [
    {
     "data": {
      "text/plain": [
       "20.93611388888889"
      ]
     },
     "execution_count": 4,
     "metadata": {},
     "output_type": "execute_result"
    }
   ],
   "source": [
    "latitude"
   ]
  },
  {
   "cell_type": "code",
   "execution_count": 5,
   "id": "a9cb1c4a",
   "metadata": {},
   "outputs": [],
   "source": [
    "longitude = \"32-11-50.000W\""
   ]
  },
  {
   "cell_type": "code",
   "execution_count": 6,
   "id": "eca15e6b",
   "metadata": {},
   "outputs": [],
   "source": [
    "W = 'W' in longitude\n",
    "d,m,s=map(float,longitude[:-1].split(\"-\"))\n",
    "longitude = (d + m/60. + s/3600.) * (-1 if W else 1)"
   ]
  },
  {
   "cell_type": "code",
   "execution_count": 7,
   "id": "cfc33d14",
   "metadata": {},
   "outputs": [
    {
     "data": {
      "text/plain": [
       "-32.197222222222216"
      ]
     },
     "execution_count": 7,
     "metadata": {},
     "output_type": "execute_result"
    }
   ],
   "source": [
    "longitude"
   ]
  },
  {
   "cell_type": "code",
   "execution_count": 9,
   "id": "7fb33810",
   "metadata": {},
   "outputs": [
    {
     "data": {
      "text/plain": [
       "20.93611388888889"
      ]
     },
     "execution_count": 9,
     "metadata": {},
     "output_type": "execute_result"
    }
   ],
   "source": [
    "latitude"
   ]
  },
  {
   "cell_type": "code",
   "execution_count": 20,
   "id": "1fb0368a",
   "metadata": {},
   "outputs": [],
   "source": [
    "longitude = \"32-11-50.000W\"\n",
    "W = 'W' in longitude\n",
    "longitude = sum(float(x) / 60 **n for n,x in enumerate(longitude[:-1].split(\"-\")))* (-1 if W else 1)"
   ]
  },
  {
   "cell_type": "code",
   "execution_count": 21,
   "id": "59904a2c",
   "metadata": {},
   "outputs": [
    {
     "data": {
      "text/plain": [
       "-32.197222222222216"
      ]
     },
     "execution_count": 21,
     "metadata": {},
     "output_type": "execute_result"
    }
   ],
   "source": [
    "longitude"
   ]
  },
  {
   "cell_type": "code",
   "execution_count": 15,
   "id": "99d9b339",
   "metadata": {},
   "outputs": [
    {
     "data": {
      "text/plain": [
       "3.0"
      ]
     },
     "execution_count": 15,
     "metadata": {},
     "output_type": "execute_result"
    }
   ],
   "source": []
  },
  {
   "cell_type": "code",
   "execution_count": 22,
   "id": "d64c0e53",
   "metadata": {},
   "outputs": [],
   "source": [
    "def fib(n):\n",
    "    a,b=0,1\n",
    "    for _ in range(n+1):\n",
    "        yield a\n",
    "        a,b=b,a+b"
   ]
  },
  {
   "cell_type": "code",
   "execution_count": 24,
   "id": "3cc2eb62",
   "metadata": {},
   "outputs": [
    {
     "data": {
      "text/plain": [
       "[0, 1, 1, 2, 3, 5, 8, 13, 21, 34, 55]"
      ]
     },
     "execution_count": 24,
     "metadata": {},
     "output_type": "execute_result"
    }
   ],
   "source": [
    "list(fib(10))"
   ]
  },
  {
   "cell_type": "code",
   "execution_count": 29,
   "id": "a9ae2166",
   "metadata": {},
   "outputs": [],
   "source": [
    "def fib2(n):\n",
    "    if n <=1:\n",
    "        return n\n",
    "    return fib2(n-1) + fib2(n-2)\n"
   ]
  },
  {
   "cell_type": "code",
   "execution_count": 30,
   "id": "c0cf5e8b",
   "metadata": {},
   "outputs": [
    {
     "data": {
      "text/plain": [
       "55"
      ]
     },
     "execution_count": 30,
     "metadata": {},
     "output_type": "execute_result"
    }
   ],
   "source": [
    "fib2(10)"
   ]
  },
  {
   "cell_type": "code",
   "execution_count": 36,
   "id": "6d59ab90",
   "metadata": {},
   "outputs": [
    {
     "data": {
      "text/plain": [
       "-32.197222222222216"
      ]
     },
     "execution_count": 36,
     "metadata": {},
     "output_type": "execute_result"
    }
   ],
   "source": [
    "longitude=\"32-11-50.000W\"\n",
    "W = 'W' in longitude\n",
    "longitude=sum(float(x)/60**n for n,x in enumerate(longitude[:-1].split(\"-\")))*(-1 if W else 1)\n",
    "longitude"
   ]
  },
  {
   "cell_type": "code",
   "execution_count": 37,
   "id": "731f3bf6",
   "metadata": {},
   "outputs": [],
   "source": [
    "longitude=\"32-11-50.000W\"\n",
    "W = 'W' in longitude\n",
    "\n",
    "d,m,s=map(float,longitude[:-1].split(\"-\"))"
   ]
  },
  {
   "cell_type": "code",
   "execution_count": 38,
   "id": "8714675f",
   "metadata": {},
   "outputs": [],
   "source": [
    "longitude=(d+m/60.+s/3600.)*(-1 if W else 1)"
   ]
  },
  {
   "cell_type": "code",
   "execution_count": 39,
   "id": "a3aed893",
   "metadata": {},
   "outputs": [
    {
     "data": {
      "text/plain": [
       "-32.197222222222216"
      ]
     },
     "execution_count": 39,
     "metadata": {},
     "output_type": "execute_result"
    }
   ],
   "source": [
    "longitude"
   ]
  },
  {
   "cell_type": "code",
   "execution_count": 41,
   "id": "8fb13640",
   "metadata": {},
   "outputs": [],
   "source": [
    "longitude=\"32-11-50.000W\"\n",
    "longitude=sum(float(x)/60**n for n,x in enumerate(longitude[:-1].split(\"-\")))"
   ]
  },
  {
   "cell_type": "code",
   "execution_count": 42,
   "id": "9f12f19d",
   "metadata": {},
   "outputs": [
    {
     "data": {
      "text/plain": [
       "32.197222222222216"
      ]
     },
     "execution_count": 42,
     "metadata": {},
     "output_type": "execute_result"
    }
   ],
   "source": [
    "longitude"
   ]
  },
  {
   "cell_type": "code",
   "execution_count": 14,
   "id": "24224d1f",
   "metadata": {},
   "outputs": [],
   "source": [
    "import sys"
   ]
  },
  {
   "cell_type": "code",
   "execution_count": 15,
   "id": "8973da65",
   "metadata": {},
   "outputs": [
    {
     "name": "stdout",
     "output_type": "stream",
     "text": [
      "Defaulting to user installation because normal site-packages is not writeable\n",
      "Collecting ipycanvas\n",
      "  Downloading ipycanvas-0.13.1-py2.py3-none-any.whl (255 kB)\n",
      "\u001b[2K     \u001b[90m━━━━━━━━━━━━━━━━━━━━━━━━━━━━━━━━━━━━━━━\u001b[0m \u001b[32m255.7/255.7 kB\u001b[0m \u001b[31m3.6 MB/s\u001b[0m eta \u001b[36m0:00:00\u001b[0ma \u001b[36m0:00:01\u001b[0m\n",
      "\u001b[?25hRequirement already satisfied: pillow>=6.0 in /home/m/.local/lib/python3.10/site-packages (from ipycanvas) (9.3.0)\n",
      "Collecting ipywidgets<9,>=7.6.0\n",
      "  Downloading ipywidgets-8.0.4-py3-none-any.whl (137 kB)\n",
      "\u001b[2K     \u001b[90m━━━━━━━━━━━━━━━━━━━━━━━━━━━━━━━━━━━━━━━\u001b[0m \u001b[32m137.8/137.8 kB\u001b[0m \u001b[31m3.6 MB/s\u001b[0m eta \u001b[36m0:00:00\u001b[0ma \u001b[36m0:00:01\u001b[0m\n",
      "\u001b[?25hRequirement already satisfied: numpy in /home/m/.local/lib/python3.10/site-packages (from ipycanvas) (1.24.0)\n",
      "Requirement already satisfied: ipykernel>=4.5.1 in /home/m/.local/lib/python3.10/site-packages (from ipywidgets<9,>=7.6.0->ipycanvas) (6.19.2)\n",
      "Collecting widgetsnbextension~=4.0\n",
      "  Downloading widgetsnbextension-4.0.5-py3-none-any.whl (2.0 MB)\n",
      "\u001b[2K     \u001b[90m━━━━━━━━━━━━━━━━━━━━━━━━━━━━━━━━━━━━━━━━\u001b[0m \u001b[32m2.0/2.0 MB\u001b[0m \u001b[31m25.1 MB/s\u001b[0m eta \u001b[36m0:00:00\u001b[0m00:01\u001b[0m00:01\u001b[0m\n",
      "\u001b[?25hRequirement already satisfied: traitlets>=4.3.1 in /home/m/.local/lib/python3.10/site-packages (from ipywidgets<9,>=7.6.0->ipycanvas) (5.7.0)\n",
      "Requirement already satisfied: ipython>=6.1.0 in /home/m/.local/lib/python3.10/site-packages (from ipywidgets<9,>=7.6.0->ipycanvas) (8.7.0)\n",
      "Collecting jupyterlab-widgets~=3.0\n",
      "  Downloading jupyterlab_widgets-3.0.5-py3-none-any.whl (384 kB)\n",
      "\u001b[2K     \u001b[90m━━━━━━━━━━━━━━━━━━━━━━━━━━━━━━━━━━━━━━\u001b[0m \u001b[32m384.3/384.3 kB\u001b[0m \u001b[31m12.9 MB/s\u001b[0m eta \u001b[36m0:00:00\u001b[0m\n",
      "\u001b[?25hRequirement already satisfied: nest-asyncio in /home/m/.local/lib/python3.10/site-packages (from ipykernel>=4.5.1->ipywidgets<9,>=7.6.0->ipycanvas) (1.5.6)\n",
      "Requirement already satisfied: packaging in /home/m/.local/lib/python3.10/site-packages (from ipykernel>=4.5.1->ipywidgets<9,>=7.6.0->ipycanvas) (22.0)\n",
      "Requirement already satisfied: jupyter-client>=6.1.12 in /home/m/.local/lib/python3.10/site-packages (from ipykernel>=4.5.1->ipywidgets<9,>=7.6.0->ipycanvas) (7.4.8)\n",
      "Requirement already satisfied: tornado>=6.1 in /home/m/.local/lib/python3.10/site-packages (from ipykernel>=4.5.1->ipywidgets<9,>=7.6.0->ipycanvas) (6.2)\n",
      "Requirement already satisfied: matplotlib-inline>=0.1 in /home/m/.local/lib/python3.10/site-packages (from ipykernel>=4.5.1->ipywidgets<9,>=7.6.0->ipycanvas) (0.1.6)\n",
      "Requirement already satisfied: comm>=0.1.1 in /home/m/.local/lib/python3.10/site-packages (from ipykernel>=4.5.1->ipywidgets<9,>=7.6.0->ipycanvas) (0.1.2)\n",
      "Requirement already satisfied: pyzmq>=17 in /home/m/.local/lib/python3.10/site-packages (from ipykernel>=4.5.1->ipywidgets<9,>=7.6.0->ipycanvas) (24.0.1)\n",
      "Requirement already satisfied: psutil in /home/m/.local/lib/python3.10/site-packages (from ipykernel>=4.5.1->ipywidgets<9,>=7.6.0->ipycanvas) (5.9.4)\n",
      "Requirement already satisfied: debugpy>=1.0 in /home/m/.local/lib/python3.10/site-packages (from ipykernel>=4.5.1->ipywidgets<9,>=7.6.0->ipycanvas) (1.6.4)\n",
      "Requirement already satisfied: decorator in /home/m/.local/lib/python3.10/site-packages (from ipython>=6.1.0->ipywidgets<9,>=7.6.0->ipycanvas) (5.1.1)\n",
      "Requirement already satisfied: prompt-toolkit<3.1.0,>=3.0.11 in /home/m/.local/lib/python3.10/site-packages (from ipython>=6.1.0->ipywidgets<9,>=7.6.0->ipycanvas) (3.0.36)\n",
      "Requirement already satisfied: backcall in /home/m/.local/lib/python3.10/site-packages (from ipython>=6.1.0->ipywidgets<9,>=7.6.0->ipycanvas) (0.2.0)\n",
      "Requirement already satisfied: stack-data in /home/m/.local/lib/python3.10/site-packages (from ipython>=6.1.0->ipywidgets<9,>=7.6.0->ipycanvas) (0.6.2)\n",
      "Requirement already satisfied: pickleshare in /home/m/.local/lib/python3.10/site-packages (from ipython>=6.1.0->ipywidgets<9,>=7.6.0->ipycanvas) (0.7.5)\n",
      "Requirement already satisfied: pygments>=2.4.0 in /home/m/.local/lib/python3.10/site-packages (from ipython>=6.1.0->ipywidgets<9,>=7.6.0->ipycanvas) (2.13.0)\n",
      "Requirement already satisfied: pexpect>4.3 in /home/m/.local/lib/python3.10/site-packages (from ipython>=6.1.0->ipywidgets<9,>=7.6.0->ipycanvas) (4.8.0)\n",
      "Requirement already satisfied: jedi>=0.16 in /home/m/.local/lib/python3.10/site-packages (from ipython>=6.1.0->ipywidgets<9,>=7.6.0->ipycanvas) (0.18.2)\n",
      "Requirement already satisfied: parso<0.9.0,>=0.8.0 in /home/m/.local/lib/python3.10/site-packages (from jedi>=0.16->ipython>=6.1.0->ipywidgets<9,>=7.6.0->ipycanvas) (0.8.3)\n",
      "Requirement already satisfied: jupyter-core>=4.9.2 in /home/m/.local/lib/python3.10/site-packages (from jupyter-client>=6.1.12->ipykernel>=4.5.1->ipywidgets<9,>=7.6.0->ipycanvas) (5.1.0)\n",
      "Requirement already satisfied: entrypoints in /home/m/.local/lib/python3.10/site-packages (from jupyter-client>=6.1.12->ipykernel>=4.5.1->ipywidgets<9,>=7.6.0->ipycanvas) (0.4)\n",
      "Requirement already satisfied: python-dateutil>=2.8.2 in /home/m/.local/lib/python3.10/site-packages (from jupyter-client>=6.1.12->ipykernel>=4.5.1->ipywidgets<9,>=7.6.0->ipycanvas) (2.8.2)\n",
      "Requirement already satisfied: ptyprocess>=0.5 in /home/m/.local/lib/python3.10/site-packages (from pexpect>4.3->ipython>=6.1.0->ipywidgets<9,>=7.6.0->ipycanvas) (0.7.0)\n",
      "Requirement already satisfied: wcwidth in /home/m/.local/lib/python3.10/site-packages (from prompt-toolkit<3.1.0,>=3.0.11->ipython>=6.1.0->ipywidgets<9,>=7.6.0->ipycanvas) (0.2.5)\n",
      "Requirement already satisfied: pure-eval in /home/m/.local/lib/python3.10/site-packages (from stack-data->ipython>=6.1.0->ipywidgets<9,>=7.6.0->ipycanvas) (0.2.2)\n",
      "Requirement already satisfied: asttokens>=2.1.0 in /home/m/.local/lib/python3.10/site-packages (from stack-data->ipython>=6.1.0->ipywidgets<9,>=7.6.0->ipycanvas) (2.2.1)\n",
      "Requirement already satisfied: executing>=1.2.0 in /home/m/.local/lib/python3.10/site-packages (from stack-data->ipython>=6.1.0->ipywidgets<9,>=7.6.0->ipycanvas) (1.2.0)\n",
      "Requirement already satisfied: six in /home/m/.local/lib/python3.10/site-packages (from asttokens>=2.1.0->stack-data->ipython>=6.1.0->ipywidgets<9,>=7.6.0->ipycanvas) (1.16.0)\n",
      "Requirement already satisfied: platformdirs>=2.5 in /home/m/.local/lib/python3.10/site-packages (from jupyter-core>=4.9.2->jupyter-client>=6.1.12->ipykernel>=4.5.1->ipywidgets<9,>=7.6.0->ipycanvas) (2.6.0)\n",
      "Installing collected packages: widgetsnbextension, jupyterlab-widgets, ipywidgets, ipycanvas\n",
      "Successfully installed ipycanvas-0.13.1 ipywidgets-8.0.4 jupyterlab-widgets-3.0.5 widgetsnbextension-4.0.5\n"
     ]
    }
   ],
   "source": [
    "!{sys.executable} -m pip install ipycanvas\n"
   ]
  },
  {
   "cell_type": "code",
   "execution_count": 51,
   "id": "258ec6ff",
   "metadata": {},
   "outputs": [],
   "source": [
    "\n",
    "from ipycanvas import Canvas, Path2D\n",
    "from math import pi\n",
    "\n",
    "canvas = Canvas(width=350, height=350)\n",
    "\n",
    "canvas.begin_path()\n",
    "canvas.arc(75, 75, 50, 0, pi * 2, True)\n",
    "canvas.move_to(110,75)\n",
    "canvas.arc(75, 75, 35, 0, pi, False)\n",
    "canvas.move_to(65, 65)\n",
    "canvas.arc(60, 65, 5, 0, pi * 2, False)\n",
    "canvas.move_to(95, 65)\n",
    "canvas.arc(90, 65, 5, 0, pi * 2, False)\n",
    "canvas.stroke()"
   ]
  },
  {
   "cell_type": "code",
   "execution_count": 52,
   "id": "a624b547",
   "metadata": {},
   "outputs": [
    {
     "data": {
      "application/vnd.jupyter.widget-view+json": {
       "model_id": "ece3d56d1d5b4c449fc29217c397a348",
       "version_major": 2,
       "version_minor": 0
      },
      "text/plain": [
       "Canvas(height=350, width=350)"
      ]
     },
     "execution_count": 52,
     "metadata": {},
     "output_type": "execute_result"
    }
   ],
   "source": [
    "canvas"
   ]
  },
  {
   "attachments": {},
   "cell_type": "markdown",
   "id": "8674dd55",
   "metadata": {},
   "source": [
    "similarity = $$\\cos{\\left(\\theta\\right)} = \\frac{A\\cdot B}{\\lVert{A}\\rVert\\lVert{B}\\rVert} = \\frac{\\sum_{i=1}^{n}A_{i}B_{i}}{\\sqrt{\\sum_{i=1}^{n}A_{i^2}}\\sqrt{\\sum_{i=1}^{n}B_{i^2}}}$$"
   ]
  },
  {
   "cell_type": "code",
   "execution_count": null,
   "id": "c6be36d8",
   "metadata": {},
   "outputs": [],
   "source": []
  },
  {
   "cell_type": "code",
   "execution_count": 3,
   "id": "c5bcf0a8",
   "metadata": {},
   "outputs": [],
   "source": [
    "from math import sqrt,acos\n",
    "a = [1, 3, -5]\n",
    "b = [4, -2, -1]\n",
    "sim = sum([x*y for x,y in zip(a,b)]) / (sqrt(sum([i**2 for i in a])) * (sqrt(sum([i**2 for i in b]))))"
   ]
  },
  {
   "cell_type": "code",
   "execution_count": 17,
   "id": "6c62e33a",
   "metadata": {},
   "outputs": [],
   "source": [
    "a = [1, 3, -5]\n",
    "b = [1, 3, -5]\n",
    "sim = sum(x*y for x,y in zip(a,b)) / (sqrt(sum([i**2 for i in a])) * (sqrt(sum([i**2 for i in b]))))"
   ]
  },
  {
   "cell_type": "code",
   "execution_count": null,
   "id": "e1ee137d",
   "metadata": {},
   "outputs": [],
   "source": []
  },
  {
   "cell_type": "code",
   "execution_count": 18,
   "id": "94786fd3",
   "metadata": {},
   "outputs": [],
   "source": [
    "sim = sum([x*y for x,y in zip(a,b)])/ (sqrt(sum([i**2 for i in a]))* (sqrt(sum([i**2 for i in b]))))"
   ]
  },
  {
   "cell_type": "code",
   "execution_count": 19,
   "id": "bd0f3db0",
   "metadata": {},
   "outputs": [
    {
     "data": {
      "text/plain": [
       "1.0"
      ]
     },
     "execution_count": 19,
     "metadata": {},
     "output_type": "execute_result"
    }
   ],
   "source": [
    "sim"
   ]
  },
  {
   "cell_type": "code",
   "execution_count": 11,
   "id": "ec167269",
   "metadata": {},
   "outputs": [],
   "source": [
    "from math import isqrt\n",
    "def is_prime(n):\n",
    "    if n <=2:\n",
    "        return []\n",
    "    is_prime = [True] * n\n",
    "    is_prime[0]=False\n",
    "    is_prime[1]=False\n",
    "    for i in range(2,isqrt(n)+1):\n",
    "        if is_prime[i]:\n",
    "            for x in range(i*i,n,i):\n",
    "                is_prime[x]=False\n",
    "    return [i for i in range(n) if is_prime[i]]\n"
   ]
  },
  {
   "cell_type": "code",
   "execution_count": 13,
   "id": "050e990a",
   "metadata": {},
   "outputs": [
    {
     "data": {
      "text/plain": [
       "[2,\n",
       " 3,\n",
       " 5,\n",
       " 7,\n",
       " 11,\n",
       " 13,\n",
       " 17,\n",
       " 19,\n",
       " 23,\n",
       " 29,\n",
       " 31,\n",
       " 37,\n",
       " 41,\n",
       " 43,\n",
       " 47,\n",
       " 53,\n",
       " 59,\n",
       " 61,\n",
       " 67,\n",
       " 71,\n",
       " 73,\n",
       " 79,\n",
       " 83,\n",
       " 89,\n",
       " 97]"
      ]
     },
     "execution_count": 13,
     "metadata": {},
     "output_type": "execute_result"
    }
   ],
   "source": [
    "is_prime(100)"
   ]
  },
  {
   "cell_type": "code",
   "execution_count": 16,
   "id": "5aa1c628",
   "metadata": {},
   "outputs": [],
   "source": [
    "def bubblesort(arr):\n",
    "    for i in range(len(arr)-1):\n",
    "        for j in range(len(arr)-i-1):\n",
    "            if arr[j] > arr[j+1]:\n",
    "                arr[j+1],arr[j] = arr[j],arr[j+1]\n",
    "    return arr  "
   ]
  },
  {
   "cell_type": "code",
   "execution_count": 18,
   "id": "7f94968c",
   "metadata": {},
   "outputs": [
    {
     "data": {
      "text/plain": [
       "[0, 2, 3, 4, 6, 7, 9]"
      ]
     },
     "execution_count": 18,
     "metadata": {},
     "output_type": "execute_result"
    }
   ],
   "source": [
    "arr=[0,2,4,9,6,7,3]\n",
    "\n",
    "bubblesort(arr)"
   ]
  },
  {
   "cell_type": "code",
   "execution_count": 13,
   "id": "ddac7bbd",
   "metadata": {},
   "outputs": [],
   "source": [
    "from ipycanvas import Canvas, Path2D\n",
    "canvas = Canvas(width=200, height=200)\n",
    "\n",
    "width=canvas.width\n",
    "height=canvas.height\n",
    "\n",
    "canvas.begin_path()\n",
    "for x in range(0,width+1,width):\n",
    "        canvas.move_to(x,0)\n",
    "        canvas.line_to(x,height)\n",
    "#for y in range(0,height+1,height//10):\n",
    "#        canvas.move_to(0,y)\n",
    "#        canvas.line_to(width,y)\n",
    "canvas.stroke()\n"
   ]
  },
  {
   "cell_type": "code",
   "execution_count": 14,
   "id": "285bbad7",
   "metadata": {},
   "outputs": [
    {
     "data": {
      "application/vnd.jupyter.widget-view+json": {
       "model_id": "ea587816cb9b41d7bbfdf5fda3f147a5",
       "version_major": 2,
       "version_minor": 0
      },
      "text/plain": [
       "Canvas(height=200, width=200)"
      ]
     },
     "execution_count": 14,
     "metadata": {},
     "output_type": "execute_result"
    }
   ],
   "source": [
    "canvas"
   ]
  },
  {
   "cell_type": "code",
   "execution_count": 43,
   "id": "426c6b56",
   "metadata": {},
   "outputs": [],
   "source": [
    "def bubblesort(arr):\n",
    "    for i in range(len(arr)-1):\n",
    "        for j in range(len(arr)-i-1):\n",
    "            if arr[j] > arr[j+1]:\n",
    "                arr[j+1],arr[j]=arr[j],arr[j+1]\n",
    "    return arr"
   ]
  },
  {
   "cell_type": "code",
   "execution_count": 44,
   "id": "963a2717",
   "metadata": {},
   "outputs": [
    {
     "data": {
      "text/plain": [
       "[2, 3, 4, 6, 9, 10]"
      ]
     },
     "execution_count": 44,
     "metadata": {},
     "output_type": "execute_result"
    }
   ],
   "source": [
    "arr=[9,4,2,6,10,3]\n",
    "bubblesort(arr)"
   ]
  },
  {
   "cell_type": "code",
   "execution_count": 45,
   "id": "b0a4ebba",
   "metadata": {},
   "outputs": [],
   "source": [
    "longitude = \"32-11-50.000W\""
   ]
  },
  {
   "cell_type": "code",
   "execution_count": 50,
   "id": "7807ef0a",
   "metadata": {},
   "outputs": [],
   "source": [
    "longitude = \"32-11-50.000W\"\n",
    "W = 'W' in longitude\n",
    "\n",
    "d,m,s= map(float,longitude[:-1].split('-'))"
   ]
  },
  {
   "cell_type": "code",
   "execution_count": 51,
   "id": "8a449fca",
   "metadata": {},
   "outputs": [
    {
     "data": {
      "text/plain": [
       "-32.197222222222216"
      ]
     },
     "execution_count": 51,
     "metadata": {},
     "output_type": "execute_result"
    }
   ],
   "source": [
    "longitude = (d + m/60. + s/3600.)*(-1 if W else 1)\n",
    "longitude"
   ]
  },
  {
   "cell_type": "code",
   "execution_count": 59,
   "id": "f226605c",
   "metadata": {},
   "outputs": [],
   "source": [
    "longitude = \"32-11-50.000W\""
   ]
  },
  {
   "cell_type": "code",
   "execution_count": 57,
   "id": "dd17a9be",
   "metadata": {},
   "outputs": [],
   "source": [
    "longitude = sum(float(x)/60**n for n,x in enumerate(longitude[:-1].split(\"-\")))*(-1 if W else 1)"
   ]
  },
  {
   "cell_type": "code",
   "execution_count": 60,
   "id": "bd995b0f",
   "metadata": {},
   "outputs": [],
   "source": [
    "longitude = longitude[:-1].split(\"-\")"
   ]
  },
  {
   "cell_type": "code",
   "execution_count": 62,
   "id": "394074a6",
   "metadata": {},
   "outputs": [
    {
     "data": {
      "text/plain": [
       "['32', '11', '50.000']"
      ]
     },
     "execution_count": 62,
     "metadata": {},
     "output_type": "execute_result"
    }
   ],
   "source": [
    "longitude"
   ]
  },
  {
   "cell_type": "code",
   "execution_count": 65,
   "id": "59ab3126",
   "metadata": {},
   "outputs": [],
   "source": [
    "d=float(longitude[0])"
   ]
  },
  {
   "cell_type": "code",
   "execution_count": 67,
   "id": "bda93786",
   "metadata": {},
   "outputs": [],
   "source": [
    "d=d/60**0"
   ]
  },
  {
   "cell_type": "code",
   "execution_count": 69,
   "id": "449f776c",
   "metadata": {},
   "outputs": [],
   "source": [
    "m = float(longitude[0])/60**1"
   ]
  },
  {
   "cell_type": "code",
   "execution_count": 70,
   "id": "88643ffb",
   "metadata": {},
   "outputs": [],
   "source": [
    "s = float(longitude[1])/60**2"
   ]
  },
  {
   "cell_type": "code",
   "execution_count": 71,
   "id": "3af3d3d2",
   "metadata": {},
   "outputs": [
    {
     "data": {
      "text/plain": [
       "32.53638888888889"
      ]
     },
     "execution_count": 71,
     "metadata": {},
     "output_type": "execute_result"
    }
   ],
   "source": [
    "d+m+s"
   ]
  },
  {
   "cell_type": "code",
   "execution_count": 72,
   "id": "a6d5bf28",
   "metadata": {},
   "outputs": [],
   "source": [
    "def fib(n):\n",
    "    a,b=0,1\n",
    "    for _ in range(n+1):\n",
    "        yield a\n",
    "        a,b=b,a+b\n",
    "    return a\n"
   ]
  },
  {
   "cell_type": "code",
   "execution_count": 74,
   "id": "ea373d1d",
   "metadata": {},
   "outputs": [
    {
     "data": {
      "text/plain": [
       "[0, 1, 1, 2, 3, 5, 8, 13, 21, 34, 55]"
      ]
     },
     "execution_count": 74,
     "metadata": {},
     "output_type": "execute_result"
    }
   ],
   "source": [
    "list(fib(10))"
   ]
  },
  {
   "cell_type": "code",
   "execution_count": 2,
   "id": "98b8062b",
   "metadata": {},
   "outputs": [
    {
     "name": "stdout",
     "output_type": "stream",
     "text": [
      "①\n"
     ]
    }
   ],
   "source": [
    "print('\\u2460')"
   ]
  },
  {
   "cell_type": "code",
   "execution_count": 4,
   "id": "ed4ec5ed",
   "metadata": {},
   "outputs": [
    {
     "name": "stdout",
     "output_type": "stream",
     "text": [
      "㊶\n"
     ]
    }
   ],
   "source": [
    "print('\\u32B6')"
   ]
  },
  {
   "cell_type": "code",
   "execution_count": 2,
   "id": "2f5cced6",
   "metadata": {},
   "outputs": [
    {
     "name": "stdout",
     "output_type": "stream",
     "text": [
      "yes\n"
     ]
    }
   ],
   "source": [
    "a=None\n",
    "\n",
    "if not a:\n",
    "    print(\"yes\")"
   ]
  },
  {
   "cell_type": "code",
   "execution_count": 1,
   "id": "ec6dec7b",
   "metadata": {},
   "outputs": [],
   "source": [
    "import logging"
   ]
  },
  {
   "cell_type": "code",
   "execution_count": 2,
   "id": "16e1da0f",
   "metadata": {},
   "outputs": [],
   "source": [
    "logging.basicConfig(level=logging.INFO,\n",
    "                        format='%(asctime)s - %(message)s',\n",
    "                        datefmt='%Y-%m-%d %H:%M:%S')"
   ]
  },
  {
   "cell_type": "code",
   "execution_count": 4,
   "id": "69a84819",
   "metadata": {},
   "outputs": [
    {
     "data": {
      "text/plain": [
       "['/home/m/novoprojeto/cmd',\n",
       " '/home/m/novoprojeto/error.txt',\n",
       " '/home/m/novoprojeto/log2.txt',\n",
       " '/home/m/novoprojeto/logs.txt',\n",
       " '/home/m/novoprojeto/euromilhoes.py',\n",
       " '/home/m/novoprojeto/LICENSE',\n",
       " '/home/m/novoprojeto/Canasta-CLI',\n",
       " '/home/m/novoprojeto/main3.py',\n",
       " '/home/m/novoprojeto/main.py',\n",
       " '/home/m/novoprojeto/main2.py',\n",
       " '/home/m/novoprojeto/go.mod',\n",
       " '/home/m/novoprojeto/go.sum',\n",
       " '/home/m/novoprojeto/main.go',\n",
       " '/home/m/novoprojeto/novo',\n",
       " '/home/m/novoprojeto/ads',\n",
       " '/home/m/novoprojeto/main4.py']"
      ]
     },
     "execution_count": 4,
     "metadata": {},
     "output_type": "execute_result"
    }
   ],
   "source": [
    "import os\n",
    "\n",
    "def walk(root):\n",
    "    return [os.path.join(root,name) for name in os.listdir(root)]\n",
    "\n",
    "walk(\"/home/m/novoprojeto/\")\n"
   ]
  },
  {
   "attachments": {},
   "cell_type": "markdown",
   "id": "4374191d",
   "metadata": {},
   "source": [
    "similarity = $$\\cos{\\left(\\theta\\right)} = \\frac{A\\cdot B}{\\lVert{A}\\rVert\\lVert{B}\\rVert} = \\frac{\\sum_{i=1}^{n}A_{i}B_{i}}{\\sqrt{\\sum_{i=1}^{n}A_{i^2}}\\sqrt{\\sum_{i=1}^{n}B_{i^2}}}$$"
   ]
  },
  {
   "cell_type": "markdown",
   "id": "ad3da8d2",
   "metadata": {},
   "source": []
  }
 ],
 "metadata": {
  "kernelspec": {
   "display_name": "Python 3",
   "language": "python",
   "name": "python3"
  },
  "language_info": {
   "codemirror_mode": {
    "name": "ipython",
    "version": 3
   },
   "file_extension": ".py",
   "mimetype": "text/x-python",
   "name": "python",
   "nbconvert_exporter": "python",
   "pygments_lexer": "ipython3",
   "version": "3.10.8"
  },
  "vscode": {
   "interpreter": {
    "hash": "7e1998ff7f8aa20ada591c520b972326324e5ea05489af9e422744c7c09f6dad"
   }
  }
 },
 "nbformat": 4,
 "nbformat_minor": 5
}

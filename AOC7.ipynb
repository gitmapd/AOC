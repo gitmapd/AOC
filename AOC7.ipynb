{
  "cells": [
    {
      "cell_type": "markdown",
      "metadata": {
        "id": "view-in-github",
        "colab_type": "text"
      },
      "source": [
        "<a href=\"https://colab.research.google.com/github/gitmapd/AOC/blob/main/AOC7.ipynb\" target=\"_parent\"><img src=\"https://colab.research.google.com/assets/colab-badge.svg\" alt=\"Open In Colab\"/></a>"
      ]
    },
    {
      "cell_type": "code",
      "execution_count": null,
      "metadata": {
        "colab": {
          "base_uri": "https://localhost:8080/"
        },
        "id": "MnLv7KndJRna",
        "outputId": "9ce4d5e2-26cc-4694-e017-e6f4f6875202"
      },
      "outputs": [
        {
          "output_type": "stream",
          "name": "stdout",
          "text": [
            "\u001b[K\u001b[?25hnpx: installed 1 in 1.929s\n",
            "\u001b[36m> cloned \u001b[1mgitmapd/AOC\u001b[22m#\u001b[1mHEAD\u001b[22m to inputs\u001b[39m\n"
          ]
        }
      ],
      "source": [
        "from pathlib import Path\n",
        "!npx degit gitmapd/AOC/inputs inputs -f\n"
      ]
    },
    {
      "cell_type": "code",
      "execution_count": 18,
      "metadata": {
        "colab": {
          "base_uri": "https://localhost:8080/"
        },
        "id": "YEyUrhHlIxoB",
        "outputId": "8d17bc50-9ecf-4a57-b0da-5d790c19a72a"
      },
      "outputs": [
        {
          "output_type": "stream",
          "name": "stdout",
          "text": [
            "Part 1: 1243729\n",
            "Part 2: 4443914\n"
          ]
        }
      ],
      "source": [
        "\n",
        "input_path = Path(\"inputs\") / \"AOC2022\"\n",
        "\n",
        "\n",
        "\n",
        "def get_input(day:int=1):\n",
        "    try:    \n",
        "        with open(input_path / f\"{day}.txt\") as f:\n",
        "          data = f.read()\n",
        "    except: \n",
        "        print(f\"Failed to load {day}.txt from disk\")\n",
        "    return data\n",
        "\n",
        "data = get_input(7).strip().split(\"\\n\")\n",
        "\n",
        "#datas = [str(x) for x in data.strip().split(\"\\n\")]\n",
        "path = \"/\"\n",
        "dirs = {\"/\":0}\n",
        "for dat in data:\n",
        "  if dat.startswith(\"$\"):\n",
        "    if dat[2:4] == \"ls\":\n",
        "      pass\n",
        "    elif dat[2:4] == \"cd\":\n",
        "      if dat[5:6] == \"/\":\n",
        "        path = \"/\"\n",
        "      elif dat[5:7] == \"..\":\n",
        "        path = path[:path.rfind(\"/\")]\n",
        "      else:\n",
        "        dir_name = dat[5:]\n",
        "        path = path + \"/\" + dir_name\n",
        "        dirs.update({path:0})\n",
        "  elif dat.startswith(\"dir\"):\n",
        "    pass\n",
        "  else:\n",
        "    size = int(dat[:dat.find(\" \")])\n",
        "    dir = path\n",
        "    for i in range(path.count(\"/\")):\n",
        "      dirs[dir] += size\n",
        "      dir = dir[:dir.rfind(\"/\")]\n",
        "\n",
        "limit = 30000000 - (70000000 - dirs[\"/\"])\n",
        "valid_dirs = []\n",
        "soma = 0\n",
        "\n",
        "for dir in dirs:\n",
        "  if dirs[dir] < 100000:\n",
        "    soma += dirs[dir]\n",
        "    \n",
        "\n",
        "for dir in dirs:\n",
        "  if limit <= dirs[dir]:\n",
        "    valid_dirs.append(dirs[dir])\n",
        "\n",
        "print(f'Part 1: {soma}')\n",
        "print(f'Part 2: {min(valid_dirs)}')\n",
        "\n"
      ]
    },
    {
      "cell_type": "code",
      "source": [],
      "metadata": {
        "id": "gUZg3HSFgF4z"
      },
      "execution_count": null,
      "outputs": []
    }
  ],
  "metadata": {
    "colab": {
      "provenance": [],
      "authorship_tag": "ABX9TyPSdx4a4QfDCpft3M/sG0lO",
      "include_colab_link": true
    },
    "kernelspec": {
      "display_name": "Python 3",
      "name": "python3"
    },
    "language_info": {
      "name": "python"
    }
  },
  "nbformat": 4,
  "nbformat_minor": 0
}
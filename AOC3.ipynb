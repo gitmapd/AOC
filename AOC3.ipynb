{
  "nbformat": 4,
  "nbformat_minor": 0,
  "metadata": {
    "colab": {
      "provenance": [],
      "authorship_tag": "ABX9TyNoSAdmc1o1ATTHZB8M3YWr",
      "include_colab_link": true
    },
    "kernelspec": {
      "name": "python3",
      "display_name": "Python 3"
    },
    "language_info": {
      "name": "python"
    }
  },
  "cells": [
    {
      "cell_type": "markdown",
      "metadata": {
        "id": "view-in-github",
        "colab_type": "text"
      },
      "source": [
        "<a href=\"https://colab.research.google.com/github/gitmapd/AOC/blob/main/AOC3.ipynb\" target=\"_parent\"><img src=\"https://colab.research.google.com/assets/colab-badge.svg\" alt=\"Open In Colab\"/></a>"
      ]
    },
    {
      "cell_type": "code",
      "execution_count": 61,
      "metadata": {
        "id": "MnLv7KndJRna"
      },
      "outputs": [],
      "source": [
        "from string import ascii_letters\n",
        "from pathlib import Path\n",
        "#!npx degit gitmapd/AOC/inputs inputs -f\n"
      ]
    },
    {
      "cell_type": "code",
      "execution_count": 67,
      "metadata": {
        "id": "YEyUrhHlIxoB",
        "colab": {
          "base_uri": "https://localhost:8080/"
        },
        "outputId": "5091c77c-7964-4efc-9e95-c0899b90519e"
      },
      "outputs": [
        {
          "output_type": "stream",
          "name": "stdout",
          "text": [
            "8252\n",
            "2828\n"
          ]
        }
      ],
      "source": [
        "\n",
        "input_path = Path(\"inputs\") / \"AOC2022\"\n",
        "\n",
        "\n",
        "\n",
        "def get_input(day:int=1):\n",
        "    \"\"\"takes in the day, year and date, returns the input\"\"\"\n",
        "    \n",
        "    try:    # load from local disk\n",
        "        with open(input_path / f\"{day}.txt\") as f:\n",
        "            data = f.read().strip().split(\"\\n\")\n",
        "    except: # else load from github repo\n",
        "        print(f\"Failed to load {day}.txt from disk\")#\n",
        "    return data \n",
        "\n",
        "def solve_part1(data):\n",
        "  sums = 0\n",
        "  for rucks in data:\n",
        "    half = len(rucks)//2\n",
        "    left = set(rucks[:half])\n",
        "    right = set(rucks[half:])\n",
        "    for key,char in enumerate(ascii_letters,start=1):\n",
        "      if char in left and char in right:\n",
        "        sums += key\n",
        "  return sums\n",
        "\n",
        "print(solve_part1(get_input(3)))\n",
        "\n",
        "\n",
        "def solve_part2(data):\n",
        "  sums = 0\n",
        "  j = 3\n",
        "  for i in range(0, len(data),3):\n",
        "    ruckstacks = data[i:j]\n",
        "    j += 3\n",
        "    for key,char in enumerate(ascii_letters,start=1):\n",
        "      if char in ruckstacks[0] and char in ruckstacks[1] and char in ruckstacks[2]:\n",
        "        sums += key\n",
        "  return sums\n",
        "\n",
        "print(solve_part2(get_input(3)))\n"
      ]
    },
    {
      "cell_type": "code",
      "execution_count": 30,
      "metadata": {
        "id": "e8FyhFDBIxn9"
      },
      "outputs": [],
      "source": [
        "  "
      ]
    }
  ]
}
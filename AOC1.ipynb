{
  "nbformat": 4,
  "nbformat_minor": 0,
  "metadata": {
    "colab": {
      "provenance": [],
      "authorship_tag": "ABX9TyNPSrcZHM0v3ZbKTjeZiQK6",
      "include_colab_link": true
    },
    "kernelspec": {
      "name": "python3",
      "display_name": "Python 3"
    },
    "language_info": {
      "name": "python"
    }
  },
  "cells": [
    {
      "cell_type": "markdown",
      "metadata": {
        "id": "view-in-github",
        "colab_type": "text"
      },
      "source": [
        "<a href=\"https://colab.research.google.com/github/gitmapd/AOC/blob/main/AOC1.ipynb\" target=\"_parent\"><img src=\"https://colab.research.google.com/assets/colab-badge.svg\" alt=\"Open In Colab\"/></a>"
      ]
    },
    {
      "cell_type": "code",
      "execution_count": 2,
      "metadata": {
        "id": "MnLv7KndJRna"
      },
      "outputs": [],
      "source": [
        "from pathlib import Path"
      ]
    },
    {
      "cell_type": "code",
      "execution_count": 41,
      "metadata": {
        "id": "YEyUrhHlIxoB",
        "colab": {
          "base_uri": "https://localhost:8080/"
        },
        "outputId": "2ad33e18-3108-487a-fa60-5dbba1d169eb"
      },
      "outputs": [
        {
          "output_type": "stream",
          "name": "stdout",
          "text": [
            "73211\n",
            "213958\n"
          ]
        }
      ],
      "source": [
        "\n",
        "input_path = Path(\"inputs\") / \"AOC2022\"\n",
        "\n",
        "#!npx degit gitmapd/AOC/inputs inputs -f\n",
        "\n",
        "def get_input(day:int=1):\n",
        "    \"\"\"takes in the day, year and date, returns the input\"\"\"\n",
        "    \n",
        "    try:    # load from local disk\n",
        "        with open(input_path / f\"{day}.txt\") as f:\n",
        "            data = f.read().strip().split(\"\\n\")\n",
        "    except: # else load from github repo\n",
        "        print(f\"Failed to load {day}.txt from disk\")#\n",
        "    return data \n",
        "\n",
        "\n",
        "def solve_part1(data):\n",
        "  calories_elf = []\n",
        "  sums = 0\n",
        "  for elf in data:\n",
        "    if elf == \"\":\n",
        "      calories_elf.append(sums)\n",
        "      sums = 0\n",
        "    else:\n",
        "      sums += int(elf)\n",
        "  return calories_elf\n",
        "\n",
        "print(max(solve_part1(get_input())))\n",
        "\n",
        "def solve_part2(data):\n",
        "  calories_elf = []\n",
        "  sums = 0\n",
        "  for elf in data:\n",
        "    if elf == \"\":\n",
        "      calories_elf.append(sums)\n",
        "      sums = 0\n",
        "    else:\n",
        "      sums += int(elf)\n",
        "  calories_elf.sort(reverse=True)\n",
        "  return sum(calories_elf[:3])\n",
        "\n",
        "print(solve_part2(get_input()))"
      ]
    },
    {
      "cell_type": "code",
      "execution_count": 30,
      "metadata": {
        "id": "e8FyhFDBIxn9"
      },
      "outputs": [],
      "source": []
    }
  ]
}
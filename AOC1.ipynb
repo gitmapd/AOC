{
  "cells": [
    {
      "cell_type": "markdown",
      "metadata": {
        "id": "view-in-github",
        "colab_type": "text"
      },
      "source": [
        "<a href=\"https://colab.research.google.com/github/gitmapd/AOC/blob/main/AOC1.ipynb\" target=\"_parent\"><img src=\"https://colab.research.google.com/assets/colab-badge.svg\" alt=\"Open In Colab\"/></a>"
      ]
    },
    {
      "cell_type": "code",
      "execution_count": 1,
      "metadata": {
        "colab": {
          "base_uri": "https://localhost:8080/"
        },
        "id": "MnLv7KndJRna",
        "outputId": "3dff1afa-a730-44ca-b78a-444693a29a12"
      },
      "outputs": [
        {
          "output_type": "stream",
          "name": "stdout",
          "text": [
            "\u001b[K\u001b[?25hnpx: installed 1 in 1.924s\n",
            "\u001b[36m> cloned \u001b[1mgitmapd/AOC\u001b[22m#\u001b[1mHEAD\u001b[22m to inputs\u001b[39m\n"
          ]
        }
      ],
      "source": [
        "from pathlib import Path\n",
        "!npx degit gitmapd/AOC/inputs inputs -f\n"
      ]
    },
    {
      "cell_type": "code",
      "execution_count": 29,
      "metadata": {
        "colab": {
          "base_uri": "https://localhost:8080/"
        },
        "id": "YEyUrhHlIxoB",
        "outputId": "2c097edc-d540-43d2-ba34-9208cdc3b44c"
      },
      "outputs": [
        {
          "output_type": "stream",
          "name": "stdout",
          "text": [
            "Part1 is: 73211\n",
            "Part2 is: 213958\n",
            "Part1 is: 73211\n",
            "Part2 is: 213958\n"
          ]
        }
      ],
      "source": [
        "\n",
        "input_path = Path(\"inputs\") / \"AOC2022\"\n",
        "\n",
        "\n",
        "def get_input(day:int=1):\n",
        "    \"\"\"takes in the day, year and date, returns the input\"\"\"\n",
        "    \n",
        "    try:    # load from local disk\n",
        "        with open(input_path / f\"{day}.txt\") as f:\n",
        "            data = f.read()\n",
        "    except: # else load from github repo\n",
        "        print(f\"Failed to load {day}.txt from disk\")#\n",
        "    return data\n",
        "\n",
        "elf_version1 = get_input()\n",
        "elf_version1 = elf_version1.strip().split(\"\\n\")\n",
        "\n",
        "def solve_part1(data):\n",
        "  calories_elf = []\n",
        "  sums = 0\n",
        "  for elf in data:\n",
        "    if elf == \"\":\n",
        "      calories_elf.append(sums)\n",
        "      sums = 0\n",
        "    else:\n",
        "      sums += int(elf)\n",
        "  return calories_elf\n",
        "\n",
        "print(f'Part1 is: {max(solve_part1(elf_version1))}')\n",
        "\n",
        "def solve_part2(data):\n",
        "  calories_elf = []\n",
        "  sums = 0\n",
        "  for elf in data:\n",
        "    if elf == \"\":\n",
        "      calories_elf.append(sums)\n",
        "      sums = 0\n",
        "    else:\n",
        "      sums += int(elf)\n",
        "  calories_elf.sort(reverse=True)\n",
        "  return sum(calories_elf[:3])\n",
        "\n",
        "print(f'Part2 is: {solve_part2(elf_version1)}')\n",
        "\n",
        "elf_version2 = get_input().split(\"\\n\\n\")\n",
        "\"Part1\"\n",
        "\n",
        "sums = 0\n",
        "\n",
        "for i in elf_version2:\n",
        "  sums = max(sums,sum([int(x) for x in i.splitlines()]))\n",
        "\n",
        "print(f\"Part1 is: {sums}\")\n",
        "\n",
        "\n",
        "sums = []\n",
        "\n",
        "for i in elf_version2:\n",
        "  sums.append(sum([int(x) for x in i.splitlines()]))\n",
        "sums = sorted(sums)\n",
        "print(f\"Part2 is: {sum(sums[-3:])}\")\n"
      ]
    },
    {
      "cell_type": "code",
      "source": [],
      "metadata": {
        "id": "gUZg3HSFgF4z"
      },
      "execution_count": 11,
      "outputs": []
    }
  ],
  "metadata": {
    "colab": {
      "provenance": [],
      "authorship_tag": "ABX9TyN7oOLa945s113qvKmQEbSf",
      "include_colab_link": true
    },
    "kernelspec": {
      "display_name": "Python 3",
      "name": "python3"
    },
    "language_info": {
      "name": "python"
    }
  },
  "nbformat": 4,
  "nbformat_minor": 0
}
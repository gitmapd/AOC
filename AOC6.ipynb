{
  "cells": [
    {
      "cell_type": "markdown",
      "metadata": {
        "id": "view-in-github",
        "colab_type": "text"
      },
      "source": [
        "<a href=\"https://colab.research.google.com/github/gitmapd/AOC/blob/main/AOC6.ipynb\" target=\"_parent\"><img src=\"https://colab.research.google.com/assets/colab-badge.svg\" alt=\"Open In Colab\"/></a>"
      ]
    },
    {
      "cell_type": "code",
      "execution_count": 9,
      "metadata": {
        "colab": {
          "base_uri": "https://localhost:8080/"
        },
        "id": "MnLv7KndJRna",
        "outputId": "20d3a0ca-6a63-4891-b002-25e1cb72a46c"
      },
      "outputs": [
        {
          "output_type": "stream",
          "name": "stdout",
          "text": [
            "\u001b[?25l[..................] / rollbackFailedOptional: verb npm-session 0327dcede00b412\u001b[0m\u001b[K\r[#######...........] \\ postinstall: sill install executeActions\u001b[0m\u001b[K\r[############......] - finalize:degit: sill doSerial finalize 8\u001b[0m\u001b[K\r\r\u001b[K\u001b[?25hnpx: installed 1 in 0.938s\n",
            "\u001b[36m> destination directory is not empty. Using --force, continuing\u001b[39m\n",
            "\u001b[36m> cloned \u001b[1mgitmapd/AOC\u001b[22m#\u001b[1mHEAD\u001b[22m to inputs\u001b[39m\n"
          ]
        }
      ],
      "source": [
        "from pathlib import Path\n",
        "!npx degit gitmapd/AOC/inputs inputs -f\n"
      ]
    },
    {
      "cell_type": "code",
      "execution_count": 16,
      "metadata": {
        "colab": {
          "base_uri": "https://localhost:8080/"
        },
        "id": "YEyUrhHlIxoB",
        "outputId": "e7e79cb1-101b-42af-c7ab-f3b0691dd395"
      },
      "outputs": [
        {
          "output_type": "stream",
          "name": "stdout",
          "text": [
            "Part 1:  1929\n",
            "Part 2:  3298\n",
            "Part 1: 1929\n",
            "Part 2: 3298\n",
            "Part 1:  1929\n",
            "Part 2:  3298\n",
            "Part 1:  1929\n",
            "Part 2:  3298\n"
          ]
        }
      ],
      "source": [
        "\n",
        "input_path = Path(\"inputs\") / \"AOC2022\"\n",
        "\n",
        "\n",
        "\n",
        "def get_input(day:int=1):\n",
        "    try:    \n",
        "        with open(input_path / f\"{day}.txt\") as f:\n",
        "          data = f.read()\n",
        "    except: \n",
        "        print(f\"Failed to load {day}.txt from disk\")\n",
        "    return data\n",
        "\n",
        "marker = get_input(6)\n",
        "\n",
        "for i in range(4,len(marker)):\n",
        "    s = set(marker[(i-4):i])\n",
        "    if len(s) == 4:\n",
        "        print(\"Part 1: \", i)\n",
        "        break\n",
        "\n",
        "for i in range(4,len(marker)):\n",
        "    s = set(marker[(i-14):i])\n",
        "    if len(s) == 14:\n",
        "        print(\"Part 2: \", i)\n",
        "        break\n",
        "\n",
        "\"Another example\"\n",
        "print(f'Part 1: {next(i for i in range(4,len(marker)) if len(set(marker[i-4:i]))==4)}')\n",
        "print(f'Part 2: {next(i for i in range(4,len(marker)) if len(set(marker[i-14:i]))==14)}')\n",
        "\n",
        "\"Another attempt\"\n",
        "for i in range(len(marker)):\n",
        "    s = set(marker[i:i+4])\n",
        "    if len(s) == 4:\n",
        "        print(\"Part 1: \", i+4)\n",
        "        break\n",
        "\n",
        "for i in range(len(marker)):\n",
        "    s = set(marker[i:i+14])\n",
        "    if len(s) == 14:\n",
        "        print(\"Part 2: \", i+14)\n",
        "        break\n",
        "\n",
        "\"Other!\"\n",
        "size = 4\n",
        "length = len(marker)\n",
        "for i in range(length - size + 1):\n",
        "    s = set(marker[i:i + size])\n",
        "    if len(s) == size:\n",
        "        print(\"Part 1: \", i + size)\n",
        "        break\n",
        "newsize = 14\n",
        "for i in range(length - newsize + 1):\n",
        "    s = set(marker[i:i + newsize])\n",
        "    if len(s) == newsize:\n",
        "        print(\"Part 2: \", i + newsize)\n",
        "        break"
      ]
    },
    {
      "cell_type": "code",
      "execution_count": 7,
      "metadata": {
        "id": "Jh9-7jeAnGs5"
      },
      "outputs": [],
      "source": [
        "    "
      ]
    }
  ],
  "metadata": {
    "colab": {
      "provenance": [],
      "authorship_tag": "ABX9TyPDvHot6MQebkQd2Msh9vq6",
      "include_colab_link": true
    },
    "kernelspec": {
      "display_name": "Python 3",
      "name": "python3"
    },
    "language_info": {
      "name": "python"
    }
  },
  "nbformat": 4,
  "nbformat_minor": 0
}
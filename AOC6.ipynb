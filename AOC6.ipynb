{
  "cells": [
    {
      "cell_type": "markdown",
      "metadata": {
        "id": "view-in-github",
        "colab_type": "text"
      },
      "source": [
        "<a href=\"https://colab.research.google.com/github/gitmapd/AOC/blob/main/AOC6.ipynb\" target=\"_parent\"><img src=\"https://colab.research.google.com/assets/colab-badge.svg\" alt=\"Open In Colab\"/></a>"
      ]
    },
    {
      "cell_type": "code",
      "execution_count": 7,
      "metadata": {
        "colab": {
          "base_uri": "https://localhost:8080/"
        },
        "id": "MnLv7KndJRna",
        "outputId": "3aef5027-048d-45e3-b1bf-f48e3768be49"
      },
      "outputs": [
        {
          "output_type": "stream",
          "name": "stdout",
          "text": [
            "\u001b[K\u001b[?25hnpx: installed 1 in 1.31s\n",
            "\u001b[36m> destination directory is not empty. Using --force, continuing\u001b[39m\n",
            "\u001b[36m> cloned \u001b[1mgitmapd/AOC\u001b[22m#\u001b[1mHEAD\u001b[22m to inputs\u001b[39m\n"
          ]
        }
      ],
      "source": [
        "from pathlib import Path\n",
        "!npx degit gitmapd/AOC/inputs inputs -f\n"
      ]
    },
    {
      "cell_type": "code",
      "execution_count": 15,
      "metadata": {
        "colab": {
          "base_uri": "https://localhost:8080/"
        },
        "id": "YEyUrhHlIxoB",
        "outputId": "b53f2f4a-3a1e-490d-a9e3-ef8677c08afe"
      },
      "outputs": [
        {
          "output_type": "stream",
          "name": "stdout",
          "text": [
            "Part 1:  1929\n",
            "Part 2:  3298\n",
            "Part 1: 1929\n",
            "Part 2: 3298\n"
          ]
        }
      ],
      "source": [
        "\n",
        "input_path = Path(\"inputs\") / \"AOC2022\"\n",
        "\n",
        "\n",
        "\n",
        "def get_input(day:int=1):\n",
        "    try:    \n",
        "        with open(input_path / f\"{day}.txt\") as f:\n",
        "          data = f.read()\n",
        "    except: \n",
        "        print(f\"Failed to load {day}.txt from disk\")\n",
        "    return data\n",
        "\n",
        "marker = get_input(6)\n",
        "\n",
        "for i in range(4,len(marker)):\n",
        "    s = set(marker[(i-4):i])\n",
        "    if len(s) == 4:\n",
        "        print(\"Part 1: \", i)\n",
        "        break\n",
        "\n",
        "for i in range(4,len(marker)):\n",
        "    s = set(marker[(i-14):i])\n",
        "    if len(s) == 14:\n",
        "        print(\"Part 2: \", i)\n",
        "        break\n",
        "\"Another example\"\n",
        "print(f'Part 1: {next(i for i in range(4,len(marker)) if len(set(marker[i-4:i]))==4)}')\n",
        "print(f'Part 2: {next(i for i in range(4,len(marker)) if len(set(marker[i-14:i]))==14)}')\n"
      ]
    },
    {
      "cell_type": "code",
      "execution_count": null,
      "metadata": {
        "id": "Jh9-7jeAnGs5"
      },
      "outputs": [],
      "source": [
        "    "
      ]
    }
  ],
  "metadata": {
    "colab": {
      "provenance": [],
      "authorship_tag": "ABX9TyOrQiPsw1U/FXOyezWQXGwh",
      "include_colab_link": true
    },
    "kernelspec": {
      "display_name": "Python 3",
      "name": "python3"
    },
    "language_info": {
      "name": "python"
    }
  },
  "nbformat": 4,
  "nbformat_minor": 0
}
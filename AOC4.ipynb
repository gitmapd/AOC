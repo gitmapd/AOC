{
  "nbformat": 4,
  "nbformat_minor": 0,
  "metadata": {
    "colab": {
      "provenance": [],
      "authorship_tag": "ABX9TyOUE5y3lZghPYnbfePr8qpT",
      "include_colab_link": true
    },
    "kernelspec": {
      "name": "python3",
      "display_name": "Python 3"
    },
    "language_info": {
      "name": "python"
    }
  },
  "cells": [
    {
      "cell_type": "markdown",
      "metadata": {
        "id": "view-in-github",
        "colab_type": "text"
      },
      "source": [
        "<a href=\"https://colab.research.google.com/github/gitmapd/AOC/blob/main/AOC4.ipynb\" target=\"_parent\"><img src=\"https://colab.research.google.com/assets/colab-badge.svg\" alt=\"Open In Colab\"/></a>"
      ]
    },
    {
      "cell_type": "code",
      "execution_count": 4,
      "metadata": {
        "id": "MnLv7KndJRna",
        "colab": {
          "base_uri": "https://localhost:8080/"
        },
        "outputId": "88463718-d1bf-4eb5-b926-7d5efc90d53c"
      },
      "outputs": [
        {
          "output_type": "stream",
          "name": "stdout",
          "text": [
            "\u001b[K\u001b[?25hnpx: installed 1 in 2.6s\n",
            "\u001b[36m> cloned \u001b[1mgitmapd/AOC\u001b[22m#\u001b[1mHEAD\u001b[22m to inputs\u001b[39m\n"
          ]
        }
      ],
      "source": [
        "from pathlib import Path\n",
        "#npx degit gitmapd/AOC/inputs inputs -f\n"
      ]
    },
    {
      "cell_type": "code",
      "execution_count": 5,
      "metadata": {
        "id": "YEyUrhHlIxoB",
        "colab": {
          "base_uri": "https://localhost:8080/"
        },
        "outputId": "11f48844-d14e-4248-ade6-4abd402facb0"
      },
      "outputs": [
        {
          "output_type": "stream",
          "name": "stdout",
          "text": [
            "571\n",
            "917\n",
            "571\n",
            "917\n",
            "571\n",
            "917\n",
            "917\n"
          ]
        }
      ],
      "source": [
        "input_path = Path(\"inputs\") / \"AOC2022\"\n",
        "\n",
        "\n",
        "\n",
        "def get_input(day:int=1):\n",
        "    try:    \n",
        "        with open(input_path / f\"{day}.txt\") as f:\n",
        "            data = f.readlines()\n",
        "            pairs = [entry.strip() for entry in data]\n",
        "    except: \n",
        "        print(f\"Failed to load {day}.txt from disk\")#\n",
        "    return pairs\n",
        "\n",
        "pairs = get_input(4)\n",
        "\n",
        "\"Part1\"\n",
        "count = 0\n",
        "for pair in pairs:\n",
        "    first_range,second_range = pair.split(\",\")\n",
        "    first_range = list(map(int,first_range.split(\"-\")))\n",
        "    second_range = list(map(int,second_range.split(\"-\")))\n",
        "    if (first_range[0] <= second_range[0] and first_range[1] >= second_range[1]) or (second_range[0] <= first_range[0] and second_range[1] >= first_range[1]):\n",
        "        count += 1\n",
        "print(count)\n",
        "\n",
        "\"Part 2\"\n",
        "count = 0\n",
        "for pair in pairs:\n",
        "    first_range,second_range = pair.split(\",\")\n",
        "    first_a, first_b = map(int,first_range.split(\"-\"))\n",
        "    second_a, second_b = map(int,second_range.split(\"-\"))\n",
        "    if first_a in range(second_a,second_b+1) or first_b in range(second_a,second_b+1):\n",
        "        count += 1\n",
        "    elif second_a in range(first_a,first_b+1) or second_b in range(first_a,first_b+1):\n",
        "        count += 1\n",
        "print(count)\n",
        "\n",
        "\"Part 1\"\n",
        "count = 0\n",
        "for pair in pairs:\n",
        "    first_range,second_range = pair.split(\",\")\n",
        "    first_a, first_b = map(int,first_range.split(\"-\"))\n",
        "    second_a, second_b = map(int,second_range.split(\"-\"))\n",
        "    if (first_a <= second_a and first_b >= second_b) or (second_a <= first_a and second_b >= first_b):\n",
        "        count += 1\n",
        "\n",
        "print(count)\n",
        "\n",
        "\"Part 2\"\n",
        "count = 0\n",
        "for pair in pairs:\n",
        "    first_range,second_range = pair.split(\",\")\n",
        "    first_a, first_b = map(int,first_range.split(\"-\"))\n",
        "    second_a, second_b = map(int,second_range.split(\"-\"))\n",
        "    if set(range(first_a,first_b+1)) & set(range(second_a,second_b+1)):\n",
        "        count += 1\n",
        "\n",
        "print(count)\n",
        "\n",
        "\"Part 1\"\n",
        "\n",
        "count = 0\n",
        "for pair in pairs:\n",
        "    first_range,second_range = pair.split(\",\")\n",
        "    first_a, first_b = map(int,first_range.split(\"-\"))\n",
        "    second_a, second_b = map(int,second_range.split(\"-\"))\n",
        "    if (first_a <= second_a and second_b <= first_b) or (second_a <= first_a and first_b <= second_b):\n",
        "        count += 1\n",
        "print(count)\n",
        "\n",
        "\"Part 2\"\n",
        "count = 0\n",
        "for pair in pairs:\n",
        "    first_range,second_range = pair.split(\",\")\n",
        "    first_a, first_b = map(int,first_range.split(\"-\"))\n",
        "    second_a, second_b = map(int,second_range.split(\"-\"))\n",
        "    if not (first_b < second_a or first_a > second_b):\n",
        "        count += 1\n",
        "print(count)\n",
        "\n",
        "\n",
        "\"Part 2\"\n",
        "count = 0\n",
        "for pair in pairs:\n",
        "    first_range,second_range = pair.split(\",\")\n",
        "    first_a, first_b = map(int,first_range.split(\"-\"))\n",
        "    second_a, second_b = map(int,second_range.split(\"-\"))\n",
        "    if ( first_b >= second_a and first_a <= second_b) :\n",
        "        count += 1\n",
        "print(count)\n",
        "\n",
        "\n",
        "\n",
        "\n",
        "\n",
        "\n",
        "\n"
      ]
    },
    {
      "cell_type": "code",
      "source": [
        "    "
      ],
      "metadata": {
        "id": "Jh9-7jeAnGs5"
      },
      "execution_count": null,
      "outputs": []
    }
  ]
}